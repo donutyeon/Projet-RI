{
 "cells": [
  {
   "cell_type": "code",
   "execution_count": 10,
   "metadata": {},
   "outputs": [],
   "source": [
    "import pandas as pd\n",
    "import gradio as gr\n",
    "import nltk\n",
    "import numpy as np\n",
    "from search import search_with_query"
   ]
  },
  {
   "cell_type": "code",
   "execution_count": 11,
   "metadata": {},
   "outputs": [],
   "source": [
    "df_descripteur = pd.read_csv('freq_poids_porter.csv')"
   ]
  },
  {
   "cell_type": "code",
   "execution_count": 12,
   "metadata": {},
   "outputs": [],
   "source": [
    "df_inverse = pd.read_csv('df_poids.csv').drop('Unnamed: 0', axis=1)"
   ]
  },
  {
   "cell_type": "code",
   "execution_count": 13,
   "metadata": {},
   "outputs": [],
   "source": [
    "def search_document_descripteur(document):\n",
    "        new_df = df_descripteur[df_descripteur['Document']== document]\n",
    "        new_df.drop(['Document'], axis=1, inplace=True)\n",
    "        \n",
    "        inverse = df_inverse.iloc[int(document)].to_frame()\n",
    "        inverse = inverse[(inverse.T != 0.000000).all()]\n",
    "        inverse = inverse.reset_index(level=0)\n",
    "        inverse[\"Terme\"] = inverse[\"index\"]\n",
    "        inverse[\"Poid\"] = inverse[int(document)]\n",
    "        inverse.drop([int(document)], axis=1, inplace=True)\n",
    "        inverse.drop(['index'], axis=1, inplace=True)\n",
    "\n",
    "        return [new_df, inverse]"
   ]
  },
  {
   "cell_type": "code",
   "execution_count": 14,
   "metadata": {},
   "outputs": [],
   "source": [
    "def search_document_inverse(phrase):\n",
    "        ExpReg = nltk. RegexpTokenizer('(?:[A-Za-z]\\.)+|\\d+(?:\\.\\d+)?%?|\\w+(?:\\-\\w+)*')\n",
    "        termes = ExpReg.tokenize(phrase)\n",
    "        termes = [t.lower() for t in termes]\n",
    "        MotsVides = nltk.corpus.stopwords.words('english')\n",
    "        Porter = nltk.PorterStemmer()\n",
    "        TermesSansMotsVides_p = [Porter.stem(terme) for terme in termes if terme.lower() not in MotsVides]\n",
    "        \n",
    "        new_df = df_inverse[TermesSansMotsVides_p]\n",
    "        new_df = new_df[(new_df.T != 0.000000).any()]\n",
    "        new_df = new_df.reset_index(level=0)\n",
    "\n",
    "        desc_df = df_descripteur.loc[df_descripteur['Terme'].isin(TermesSansMotsVides_p) ]\n",
    "\n",
    "        #new_df.drop(['document'], axis=1, inplace=True)\n",
    "        return new_df, desc_df"
   ]
  },
  {
   "cell_type": "code",
   "execution_count": 15,
   "metadata": {},
   "outputs": [],
   "source": [
    "def search_query(query):\n",
    "        results = search_with_query(query)\n",
    "        return pd.DataFrame(results)\n",
    "        "
   ]
  },
  {
   "cell_type": "code",
   "execution_count": 16,
   "metadata": {},
   "outputs": [],
   "source": [
    "# search_query(\"information AND classification OR NOT title AND computers\")"
   ]
  },
  {
   "cell_type": "code",
   "execution_count": 17,
   "metadata": {},
   "outputs": [
    {
     "name": "stdout",
     "output_type": "stream",
     "text": [
      "Running on local URL:  http://127.0.0.1:7861\n",
      "\n",
      "To create a public link, set `share=True` in `launch()`.\n"
     ]
    },
    {
     "data": {
      "text/html": [
       "<div><iframe src=\"http://127.0.0.1:7861/\" width=\"100%\" height=\"500\" allow=\"autoplay; camera; microphone; clipboard-read; clipboard-write;\" frameborder=\"0\" allowfullscreen></iframe></div>"
      ],
      "text/plain": [
       "<IPython.core.display.HTML object>"
      ]
     },
     "metadata": {},
     "output_type": "display_data"
    },
    {
     "data": {
      "text/plain": []
     },
     "execution_count": 17,
     "metadata": {},
     "output_type": "execute_result"
    }
   ],
   "source": [
    "with gr.Blocks() as app:\n",
    "        gr.Markdown(\"main app\")\n",
    "        with gr.Tab(\"Main Searches\"):\n",
    "                with gr.Row():\n",
    "                        with gr.Column():\n",
    "                                gr.Markdown(\"Search by Term\")\n",
    "                                search_input = gr.Textbox(label=\"Search for terms\")\n",
    "                                search_button = gr.Button(label=\"Search by Term\")\n",
    "                with gr.Row():\n",
    "                        with gr.Column():\n",
    "                                gr.Markdown(\"Search by Document\")\n",
    "                                search_document = gr.Number()\n",
    "                                search_document_button = gr.Button(label=\"Search by Document\")\n",
    "                with gr.Row():\n",
    "                        with gr.Column():\n",
    "                                gr.Markdown(\"Descripteur\")\n",
    "                                search_output_descripteur = gr.Numpy()\n",
    "                        with gr.Column():\n",
    "                                gr.Markdown(\"Inverse\")\n",
    "                                search_output_inverse = gr.Numpy()\n",
    "        with gr.Tab(\"Boolean Search\"):\n",
    "                gr.Markdown(\"Boolean Search\")\n",
    "                search_boolean = gr.Textbox(label=\"Boolean search\")\n",
    "                search_boolean_button = gr.Button(label=\"Search\")\n",
    "                search_boolean_output = gr.Numpy()\n",
    "        with gr.Tab(\"DBScan\"):\n",
    "                gr.Markdown(\"DBScan\")\n",
    "        with gr.Tab(\"Naive Bayes\"):\n",
    "                gr.Markdown(\"Naive Bayes\")\n",
    "        search_button.click(search_document_inverse, inputs = search_input, outputs = [search_output_inverse, search_output_descripteur])\n",
    "        search_document_button.click(search_document_descripteur, inputs = search_document, outputs = [search_output_descripteur, search_output_inverse])\n",
    "        search_boolean_button.click(search_query, inputs = search_boolean, outputs = search_boolean_output)\n",
    "\n",
    "app.launch()"
   ]
  }
 ],
 "metadata": {
  "kernelspec": {
   "display_name": "Python 3.7.0 64-bit",
   "language": "python",
   "name": "python3"
  },
  "language_info": {
   "codemirror_mode": {
    "name": "ipython",
    "version": 3
   },
   "file_extension": ".py",
   "mimetype": "text/x-python",
   "name": "python",
   "nbconvert_exporter": "python",
   "pygments_lexer": "ipython3",
   "version": "3.7.0"
  },
  "orig_nbformat": 4,
  "vscode": {
   "interpreter": {
    "hash": "ef545868ebe32c0c19943cd724395eaefc95151b54bafda088e747bf03113afe"
   }
  }
 },
 "nbformat": 4,
 "nbformat_minor": 2
}
