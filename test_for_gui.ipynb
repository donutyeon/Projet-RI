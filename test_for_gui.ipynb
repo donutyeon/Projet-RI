{
 "cells": [
  {
   "cell_type": "code",
   "execution_count": 281,
   "metadata": {},
   "outputs": [],
   "source": [
    "import pandas as pd\n",
    "import gradio as gr\n",
    "import nltk\n",
    "import numpy as np"
   ]
  },
  {
   "cell_type": "code",
   "execution_count": 282,
   "metadata": {},
   "outputs": [],
   "source": [
    "df_descripteur = pd.read_csv('freq_poids_porter.csv')"
   ]
  },
  {
   "cell_type": "code",
   "execution_count": 283,
   "metadata": {},
   "outputs": [],
   "source": [
    "df_inverse = pd.read_csv('df_poids.csv').drop('Unnamed: 0', axis=1)"
   ]
  },
  {
   "cell_type": "code",
   "execution_count": 284,
   "metadata": {},
   "outputs": [],
   "source": [
    "# demo = gr.Interface(fn=search, inputs=\"number\", outputs=\"numpy\").queue()\n",
    "# demo.launch()"
   ]
  },
  {
   "cell_type": "code",
   "execution_count": 285,
   "metadata": {},
   "outputs": [],
   "source": [
    "def search_document_descripteur(document):\n",
    "        new_df = df_descripteur[df_descripteur['Document'] == document]\n",
    "        new_df.drop(['Document'], axis=1, inplace=True)\n",
    "        \n",
    "        inverse = df_inverse.iloc[int(document)].to_frame()\n",
    "        inverse = inverse[(inverse.T != 0.000000).all()]\n",
    "        inverse = inverse.reset_index(level=0)\n",
    "        inverse[\"Terme\"] = inverse[\"index\"]\n",
    "        inverse[\"Poid\"] = inverse[5]\n",
    "        inverse.drop([5], axis=1, inplace=True)\n",
    "        inverse.drop(['index'], axis=1, inplace=True)\n",
    "\n",
    "        return [new_df, inverse]"
   ]
  },
  {
   "cell_type": "code",
   "execution_count": 286,
   "metadata": {},
   "outputs": [
    {
     "name": "stderr",
     "output_type": "stream",
     "text": [
      "C:\\Users\\YsPC\\AppData\\Roaming\\Python\\Python37\\site-packages\\pandas\\core\\frame.py:4174: SettingWithCopyWarning: \n",
      "A value is trying to be set on a copy of a slice from a DataFrame\n",
      "\n",
      "See the caveats in the documentation: https://pandas.pydata.org/pandas-docs/stable/user_guide/indexing.html#returning-a-view-versus-a-copy\n",
      "  errors=errors,\n"
     ]
    },
    {
     "data": {
      "text/html": [
       "<div>\n",
       "<style scoped>\n",
       "    .dataframe tbody tr th:only-of-type {\n",
       "        vertical-align: middle;\n",
       "    }\n",
       "\n",
       "    .dataframe tbody tr th {\n",
       "        vertical-align: top;\n",
       "    }\n",
       "\n",
       "    .dataframe thead th {\n",
       "        text-align: right;\n",
       "    }\n",
       "</style>\n",
       "<table border=\"1\" class=\"dataframe\">\n",
       "  <thead>\n",
       "    <tr style=\"text-align: right;\">\n",
       "      <th></th>\n",
       "      <th>Terme</th>\n",
       "      <th>Poid</th>\n",
       "    </tr>\n",
       "  </thead>\n",
       "  <tbody>\n",
       "    <tr>\n",
       "      <th>0</th>\n",
       "      <td>edit</td>\n",
       "      <td>0.154349</td>\n",
       "    </tr>\n",
       "    <tr>\n",
       "      <th>1</th>\n",
       "      <td>studi</td>\n",
       "      <td>0.070184</td>\n",
       "    </tr>\n",
       "    <tr>\n",
       "      <th>2</th>\n",
       "      <td>need</td>\n",
       "      <td>0.083358</td>\n",
       "    </tr>\n",
       "    <tr>\n",
       "      <th>3</th>\n",
       "      <td>detail</td>\n",
       "      <td>0.118908</td>\n",
       "    </tr>\n",
       "    <tr>\n",
       "      <th>4</th>\n",
       "      <td>work</td>\n",
       "      <td>0.083654</td>\n",
       "    </tr>\n",
       "    <tr>\n",
       "      <th>...</th>\n",
       "      <td>...</td>\n",
       "      <td>...</td>\n",
       "    </tr>\n",
       "    <tr>\n",
       "      <th>94</th>\n",
       "      <td>effect</td>\n",
       "      <td>0.096608</td>\n",
       "    </tr>\n",
       "    <tr>\n",
       "      <th>95</th>\n",
       "      <td>store</td>\n",
       "      <td>0.168212</td>\n",
       "    </tr>\n",
       "    <tr>\n",
       "      <th>96</th>\n",
       "      <td>chapter</td>\n",
       "      <td>0.147169</td>\n",
       "    </tr>\n",
       "    <tr>\n",
       "      <th>97</th>\n",
       "      <td>devot</td>\n",
       "      <td>0.165555</td>\n",
       "    </tr>\n",
       "    <tr>\n",
       "      <th>98</th>\n",
       "      <td>career</td>\n",
       "      <td>0.205426</td>\n",
       "    </tr>\n",
       "  </tbody>\n",
       "</table>\n",
       "<p>99 rows × 2 columns</p>\n",
       "</div>"
      ],
      "text/plain": [
       "      Terme      Poid\n",
       "0      edit  0.154349\n",
       "1     studi  0.070184\n",
       "2      need  0.083358\n",
       "3    detail  0.118908\n",
       "4      work  0.083654\n",
       "..      ...       ...\n",
       "94   effect  0.096608\n",
       "95    store  0.168212\n",
       "96  chapter  0.147169\n",
       "97    devot  0.165555\n",
       "98   career  0.205426\n",
       "\n",
       "[99 rows x 2 columns]"
      ]
     },
     "execution_count": 286,
     "metadata": {},
     "output_type": "execute_result"
    }
   ],
   "source": [
    "search_document_descripteur(5)[1]"
   ]
  },
  {
   "cell_type": "code",
   "execution_count": 287,
   "metadata": {},
   "outputs": [],
   "source": [
    "def search_document_inverse(phrase):\n",
    "        ExpReg = nltk. RegexpTokenizer('(?:[A-Za-z]\\.)+|\\d+(?:\\.\\d+)?%?|\\w+(?:\\-\\w+)*')\n",
    "        termes = ExpReg.tokenize(phrase)\n",
    "        termes = [t.lower() for t in termes]\n",
    "        MotsVides = nltk.corpus.stopwords.words('english')\n",
    "        Porter = nltk.PorterStemmer()\n",
    "        TermesSansMotsVides_p = [Porter.stem(terme) for terme in termes if terme.lower() not in MotsVides]\n",
    "        \n",
    "        new_df = df_inverse[TermesSansMotsVides_p]\n",
    "        new_df = new_df[(new_df.T != 0.000000).any()]\n",
    "        new_df = new_df.reset_index(level=0)\n",
    "\n",
    "        desc_df = df_descripteur.loc[df_descripteur['Terme'].isin(TermesSansMotsVides_p) ]\n",
    "\n",
    "        #new_df.drop(['document'], axis=1, inplace=True)\n",
    "        return new_df, desc_df"
   ]
  },
  {
   "cell_type": "code",
   "execution_count": 288,
   "metadata": {},
   "outputs": [
    {
     "data": {
      "text/plain": [
       "(     index   problem   concern      make  descript  titl  difficulti  \\\n",
       " 0        3  0.000000  0.000000  0.000000       0.0   0.0    0.326115   \n",
       " 1        4  0.000000  0.000000  0.000000       0.0   0.0    0.000000   \n",
       " 2        6  0.252204  0.000000  0.332710       0.0   0.0    0.000000   \n",
       " 3        7  0.000000  0.201570  0.000000       0.0   0.0    0.000000   \n",
       " 4        8  0.252204  0.000000  0.000000       0.0   0.0    0.000000   \n",
       " ..     ...       ...       ...       ...       ...   ...         ...   \n",
       " 981   1450  0.000000  0.000000  0.000000       0.0   0.0    0.000000   \n",
       " 982   1453  0.252204  0.000000  0.000000       0.0   0.0    0.543524   \n",
       " 983   1454  0.000000  0.251962  0.249533       0.0   0.0    0.000000   \n",
       " 984   1457  0.000000  0.000000  0.332710       0.0   0.0    0.000000   \n",
       " 985   1458  0.252204  0.000000  0.000000       0.0   0.0    0.000000   \n",
       " \n",
       "        involv  automat  retriev  articl  approxim  titl  \n",
       " 0    0.000000      0.0      0.0     0.0  0.000000   0.0  \n",
       " 1    0.214072      0.0      0.0     0.0  0.000000   0.0  \n",
       " 2    0.000000      0.0      0.0     0.0  0.000000   0.0  \n",
       " 3    0.000000      0.0      0.0     0.0  0.000000   0.0  \n",
       " 4    0.000000      0.0      0.0     0.0  0.000000   0.0  \n",
       " ..        ...      ...      ...     ...       ...   ...  \n",
       " 981  0.000000      0.0      0.0     0.0  0.378767   0.0  \n",
       " 982  0.000000      0.0      0.0     0.0  0.000000   0.0  \n",
       " 983  0.000000      0.0      0.0     0.0  0.000000   0.0  \n",
       " 984  0.000000      0.0      0.0     0.0  0.000000   0.0  \n",
       " 985  0.000000      0.0      0.0     0.0  0.000000   0.0  \n",
       " \n",
       " [986 rows x 13 columns],\n",
       "        Document       Terme  Frequence      Poid\n",
       " 160           4  difficulti          1  0.326115\n",
       " 221           5      involv          1  0.214072\n",
       " 368           7     problem          1  0.252204\n",
       " 380           7        make          1  0.332710\n",
       " 461           8     concern          1  0.201570\n",
       " ...         ...         ...        ...       ...\n",
       " 76818      1454     problem          1  0.252204\n",
       " 76844      1455     concern          1  0.251962\n",
       " 76902      1455        make          1  0.249533\n",
       " 77046      1458        make          1  0.332710\n",
       " 77112      1459     problem          1  0.252204\n",
       " \n",
       " [1549 rows x 4 columns])"
      ]
     },
     "execution_count": 288,
     "metadata": {},
     "output_type": "execute_result"
    }
   ],
   "source": [
    "search_document_inverse('What problems and concerns are there in making up descriptive titles? What difficulties are involved in automatically retrieving articles from approximate titles?')"
   ]
  },
  {
   "cell_type": "code",
   "execution_count": 289,
   "metadata": {},
   "outputs": [
    {
     "name": "stdout",
     "output_type": "stream",
     "text": [
      "Running on local URL:  http://127.0.0.1:7887\n",
      "\n",
      "To create a public link, set `share=True` in `launch()`.\n"
     ]
    },
    {
     "data": {
      "text/html": [
       "<div><iframe src=\"http://127.0.0.1:7887/\" width=\"100%\" height=\"500\" allow=\"autoplay; camera; microphone; clipboard-read; clipboard-write;\" frameborder=\"0\" allowfullscreen></iframe></div>"
      ],
      "text/plain": [
       "<IPython.core.display.HTML object>"
      ]
     },
     "metadata": {},
     "output_type": "display_data"
    },
    {
     "data": {
      "text/plain": []
     },
     "execution_count": 289,
     "metadata": {},
     "output_type": "execute_result"
    }
   ],
   "source": [
    "with gr.Blocks() as app:\n",
    "        gr.Markdown(\"main app\")\n",
    "        with gr.Tab(\"Main Searches\"):\n",
    "                with gr.Row():\n",
    "                        with gr.Column():\n",
    "                                gr.Markdown(\"Search by Term\")\n",
    "                                search_input = gr.Textbox(label=\"Search for terms\")\n",
    "                                search_button = gr.Button(label=\"Search by Term\")\n",
    "                with gr.Row():\n",
    "                        with gr.Column():\n",
    "                                gr.Markdown(\"Search by Document\")\n",
    "                                search_document = gr.Number()\n",
    "                                search_document_button = gr.Button(label=\"Search by Document\")\n",
    "                with gr.Row():\n",
    "                        with gr.Column():\n",
    "                                gr.Markdown(\"Descripteur\")\n",
    "                                search_output_descripteur = gr.Numpy()\n",
    "                        with gr.Column():\n",
    "                                gr.Markdown(\"Inverse\")\n",
    "                                search_output_inverse = gr.Numpy()\n",
    "        with gr.Tab(\"Boolean Search\"):\n",
    "                gr.Markdown(\"Boolean Search\")\n",
    "                search_boolean = gr.Textbox(label=\"Boolean search\")\n",
    "                search_boolean_button = gr.Button(label=\"Search\")\n",
    "                search_boolean_output = gr.Numpy()\n",
    "        with gr.Tab(\"DBScan\"):\n",
    "                gr.Markdown(\"DBScan\")\n",
    "        with gr.Tab(\"Naive Bayes\"):\n",
    "                gr.Markdown(\"Naive Bayes\")\n",
    "        search_button.click(search_document_inverse, inputs = search_input, outputs = [search_output_inverse, search_output_descripteur])\n",
    "        search_document_button.click(search_document_descripteur, inputs = search_document, outputs = [search_output_descripteur, search_output_inverse])\n",
    "\n",
    "app.launch()"
   ]
  }
 ],
 "metadata": {
  "kernelspec": {
   "display_name": "Python 3.7.0 64-bit",
   "language": "python",
   "name": "python3"
  },
  "language_info": {
   "codemirror_mode": {
    "name": "ipython",
    "version": 3
   },
   "file_extension": ".py",
   "mimetype": "text/x-python",
   "name": "python",
   "nbconvert_exporter": "python",
   "pygments_lexer": "ipython3",
   "version": "3.7.0"
  },
  "orig_nbformat": 4,
  "vscode": {
   "interpreter": {
    "hash": "ef545868ebe32c0c19943cd724395eaefc95151b54bafda088e747bf03113afe"
   }
  }
 },
 "nbformat": 4,
 "nbformat_minor": 2
}
